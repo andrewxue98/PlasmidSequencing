{
 "cells": [
  {
   "cell_type": "code",
   "execution_count": 1,
   "metadata": {},
   "outputs": [],
   "source": [
    "from multiprocessing import Value\n",
    "from pysanger import *\n",
    "import matplotlib.pyplot as plt\n",
    "\n",
    "import os\n",
    "from Bio import SeqIO\n",
    "\n",
    "from tqdm.notebook import tqdm\n",
    "\n",
    "\n",
    "def tokenize_fp_make_id(inp):\n",
    "    tokens = inp.replace(\"-\", \"_\").split(\"_\")\n",
    "    user = tokens[0]\n",
    "    construct = tokens[2]\n",
    "    well = tokens[3]\n",
    "\n",
    "    forward = \"mCherry\" in tokens\n",
    "    reverse = \"WPRE\" in tokens\n",
    "\n",
    "    if not forward and not reverse:\n",
    "        raise Exception(\"Neither forward nor reverse! Invalid filename.\")\n",
    "    else:\n",
    "        if forward:\n",
    "            primer = \"MCHERRY\"\n",
    "            direction = \"FORWARD\"\n",
    "            strand = 1\n",
    "        else:\n",
    "            primer = \"WPRE\"\n",
    "            direction = \"REVERSE\"\n",
    "            strand = -1\n",
    "\n",
    "    id = f\"{user}_{construct}_{well}_{primer}_{direction}\"\n",
    "\n",
    "    return id, strand\n",
    "\n",
    "\n",
    "output_dir = \"output_013024\"\n",
    "os.makedirs(output_dir, exist_ok=True)\n",
    "\n",
    "# read in template plasmid\n",
    "with open(\"data/bfp-expression-control-mcherry-flag-hlpla-pcdna3-w37v.fasta\") as file:\n",
    "    for record in SeqIO.parse(file, \"fasta\"):\n",
    "        template = record.seq"
   ]
  },
  {
   "cell_type": "code",
   "execution_count": null,
   "metadata": {},
   "outputs": [],
   "source": []
  },
  {
   "cell_type": "code",
   "execution_count": 5,
   "metadata": {},
   "outputs": [
    {
     "data": {
      "application/vnd.jupyter.widget-view+json": {
       "model_id": "c692ddd9def84bdd8715a73960019ae2",
       "version_major": 2,
       "version_minor": 0
      },
      "text/plain": [
       "  0%|          | 0/108 [00:00<?, ?it/s]"
      ]
     },
     "metadata": {},
     "output_type": "display_data"
    }
   ],
   "source": [
    "\n",
    "\n",
    "stat_list = []\n",
    "\n",
    "for fp in tqdm(os.listdir(\"data/albert_data2\")):\n",
    "    id, strand = tokenize_fp_make_id(fp)\n",
    "    abidata = abi_to_dict(f\"data/albert_data2/{fp}\")\n",
    "\n",
    "    if strand == 1:\n",
    "        template_limits = (4660, 5250)\n",
    "    else:\n",
    "        template_limits = (5000, 5740)\n",
    "    fig, stats = visualize(\n",
    "        id,\n",
    "        abidata,\n",
    "        template=template,\n",
    "        strand=strand,\n",
    "        fig=None,\n",
    "        region=\"read\",\n",
    "        translation_limits=(4702, None),\n",
    "        template_limits=template_limits\n",
    "    )\n",
    "\n",
    "    fig.savefig(f\"output_013024/{id}.png\", bbox_inches=\"tight\")\n",
    "    plt.close()\n",
    "\n",
    "    stat_list.append(stats)\n",
    "\n",
    "stat_df = pd.concat(stat_list)\n",
    "stat_df = stat_df.sort_values(by=\"id\", ascending=True)\n",
    "stat_df.to_csv(\"output_012624/construct_info_012624.csv\", index=False)"
   ]
  },
  {
   "cell_type": "code",
   "execution_count": 6,
   "metadata": {},
   "outputs": [],
   "source": [
    "stat_df.to_csv(\"output_013024/construct_info_013024.csv\", index=False)"
   ]
  },
  {
   "cell_type": "code",
   "execution_count": 3,
   "metadata": {},
   "outputs": [
    {
     "data": {
      "text/plain": [
       "[1706309330.0966344,\n",
       " 1706309330.096836,\n",
       " 1706309330.2304857,\n",
       " 1706309330.5326543,\n",
       " 1706309331.8771894]"
      ]
     },
     "execution_count": 3,
     "metadata": {},
     "output_type": "execute_result"
    }
   ],
   "source": [
    "times"
   ]
  },
  {
   "cell_type": "code",
   "execution_count": 1,
   "metadata": {},
   "outputs": [],
   "source": [
    "from Bio import SeqIO\n",
    "from Bio import pairwise2\n",
    "\n",
    "template = \"gtcaGCGGCCGCTGTCCAATTGGTTGAATCTGGCGGAGGACTGGTGCAGGCTGGTGGCAGCCTGCGGCTGAGCTACGCTGCTTCTGGTAGAACCTTTTCCAACTACGCCATGCACTGGGTTAGACAGGCCCCTGGCAAGGAAAGAGAGTTCCTGGGTTACATCTCTTGGACCGGCGTGTCCACTTACTATGCCGATTCTGTCAAAGGCAGATTCACCATCAGCAGAGACAACGACAAGAACCAGCTGTACTTGCAAATGAACAGCTTAATTCCAGAGGATACAGCCATCTACTACAGCGCCAGAGTCAGAGCCAGATCTTTCAGCGACACCTACTCTCGGGTGAATGAGTACGACTACTGGGGTCAAGGTACTCAAGTTACCGTGTCCgtcaGACGTC\"\n",
    "subject = \"TNNNNNNNNNTTNNACNAGCTANNNGTACAGNGGGAACAAAGTCGATTTTGTTACATCTACACTGTTGTTATCAGATCTTACAAGTCCTCTTCAGAAATAAGCTTTTGTTCGACGTCGGACACGGTAACTTGAGTACCTTGACCCCAGTAGTCGTACTCATTCACCCGAGAGTAGGTGTCGCTGAAAGATCTGGCTCTGACTCTGGCGCTGTAGTAGATGGCTGTATCCTCTGGAATTAGCTGTTCATTTGCAAGTACAGCTGGTTCTTGTCGTTGTCTCTGCTGATGGTGAATCTGCCTTTGACAGAATCGGCATAGTAAGTGGACACGCCGGTCCAAGAGATGTAACCCAGGAACTCTCTTTCCTTGCCAGGGGCCTGTCTAACCCAGTGCATGGAGTAGTTGGAAAAGGTTCTACCAGAAGCAGCGTAGCTCAGCCGCAGGCTGCCACCAGCCTGCACCAGTCCTCCGCCAGATTCAACCAATTGGACAGCGGCCGCGGCCAGCTCCACCAGGATGCCTGCCAGCTTTCTATCCTGCAGATACAGGTCATTGGGCCATTTGACTCGCACCTTGTCTGCTCCCAGCTTTCGCAGCGCTTCTGCCATGACAATTCCGATGACCGGGCCCAGGCCGATTGCTGCTGGTCCCCGCTTCAGGCGCCAAAACATACTCAGGTACAGGTTAGCTCCAAAAGGAGAGAACCATTTCCTCCCTCTGCTTCCTCTCCCTGCCTGCTGATATTCTGCAATGCAAGCATCCCCACTCTTCAGCTCGCCGATTCGATCCAGCAGGTACTGATTGGTGGAGTCGACCACAGGCANGACTGCCACGCTCCCGCCGTCCAGCTGTCCCAGAATCTGTTTAGCGTTCAGCAGCGGGATANGNTCGGGCAGAGAGTAGCCCTTTCCGGGCACGGNGAACACGTCCACGCCCCCAGTCGCGCAGAGTCTGAATGTGCTTGTTGATAGCGGGCCCTGNNNATGCCCAGGGTTTCTCCCAGCTGNTTCGCCACTATGGNANTCGCCATTANCNAGNNANCGATCAGCTTTCNNNNNACAGTATNGTCTTTGCTANCNNANCNNCNNNNCNGNNCCNTCCACNNNNNACCCNNCCCCNNNNNNNCCNTTTNNGNANANNNNNANNNATTNNTCNNNNNNTNCNNNNNNNNNACNNCGNNCNNNNTCNNCNNNNNGNNNNNNNNNTTTNNNNNNNNN\"\n",
    "alignments = pairwise2.align.globalms(template, subject, 2, 0, -10, -1, penalize_end_gaps=False)\n",
    "atemplate = alignments[0][0]\n",
    "asubject = alignments[0][1]"
   ]
  },
  {
   "cell_type": "code",
   "execution_count": 5,
   "metadata": {},
   "outputs": [
    {
     "data": {
      "text/plain": [
       "'GAGAGTAGGTGTCGCTGAAAGATCTGGCTCTGACTCTGGCGCTGTAGTAGATGGCTGTATCCTCTGGATTAGCTGTTCATTTGCAAGTACAGCTGGTTCTTGTCGTTGTCTCTGCTGATGGTGAATCTGCCTTTGACAGAATCGGCATAGTAAGTGGACACGCCGGTCCAAGAGATGTAACCCAGGAACTCTCTTTCCTTGCCAGGGGCCTGTCTAACCCAGTGCATGGAGTAGTTGGAAAAGGTTCTACCAGAAGCAGCGTAGCTCA--GCCGCAGGCTGCCACCAGCCTGCACCAGTCCTCCGCCAGATTCAACCAATTGGACAGCGGCCGCGGCCAGCTCCACCAGGATGCCTGCCAGCTTTCTATCCTGCAGATACAGGTCATTGGGCCATTTG'"
      ]
     },
     "execution_count": 5,
     "metadata": {},
     "output_type": "execute_result"
    }
   ],
   "source": [
    "\"\".join([sub for sub, temp in zip(asubject, atemplate) if temp != \"-\"])"
   ]
  },
  {
   "cell_type": "code",
   "execution_count": null,
   "metadata": {},
   "outputs": [],
   "source": [
    "1"
   ]
  },
  {
   "cell_type": "code",
   "execution_count": null,
   "metadata": {},
   "outputs": [],
   "source": []
  }
 ],
 "metadata": {
  "kernelspec": {
   "display_name": "biopython",
   "language": "python",
   "name": "python3"
  },
  "language_info": {
   "codemirror_mode": {
    "name": "ipython",
    "version": 3
   },
   "file_extension": ".py",
   "mimetype": "text/x-python",
   "name": "python",
   "nbconvert_exporter": "python",
   "pygments_lexer": "ipython3",
   "version": "3.11.4"
  },
  "orig_nbformat": 4
 },
 "nbformat": 4,
 "nbformat_minor": 2
}
