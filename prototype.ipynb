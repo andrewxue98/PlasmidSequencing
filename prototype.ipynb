{
 "cells": [
  {
   "cell_type": "code",
   "execution_count": 5,
   "metadata": {},
   "outputs": [
    {
     "data": {
      "text/plain": [
       "'PC_812288-3088_48_PC-442--Mcherry-Seq-Forward_H11.ab1'"
      ]
     },
     "execution_count": 5,
     "metadata": {},
     "output_type": "execute_result"
    }
   ],
   "source": [
    "os.listdir(\"peter_data\")[269]"
   ]
  },
  {
   "cell_type": "code",
   "execution_count": 6,
   "metadata": {},
   "outputs": [
    {
     "name": "stdout",
     "output_type": "stream",
     "text": [
      "2\n"
     ]
    },
    {
     "ename": "ValueError",
     "evalue": "Something has gone wrong :(",
     "output_type": "error",
     "traceback": [
      "\u001b[0;31m---------------------------------------------------------------------------\u001b[0m",
      "\u001b[0;31mValueError\u001b[0m                                Traceback (most recent call last)",
      "Cell \u001b[0;32mIn[6], line 46\u001b[0m\n\u001b[1;32m     44\u001b[0m \u001b[39melse\u001b[39;00m:\n\u001b[1;32m     45\u001b[0m     template_limits \u001b[39m=\u001b[39m (\u001b[39m5000\u001b[39m, \u001b[39m5740\u001b[39m)\n\u001b[0;32m---> 46\u001b[0m fig, stats \u001b[39m=\u001b[39m visualize(\u001b[39mid\u001b[39m, abidata, template\u001b[39m=\u001b[39mtemplate, strand\u001b[39m=\u001b[39mstrand, fig\u001b[39m=\u001b[39m\u001b[39mNone\u001b[39;00m, region\u001b[39m=\u001b[39m\u001b[39m\"\u001b[39m\u001b[39mread\u001b[39m\u001b[39m\"\u001b[39m, translation_limits \u001b[39m=\u001b[39m (\u001b[39m4702\u001b[39m, \u001b[39mNone\u001b[39;00m), template_limits \u001b[39m=\u001b[39m template_limits)\n\u001b[1;32m     47\u001b[0m fig\u001b[39m.\u001b[39msavefig(\u001b[39mf\u001b[39m\u001b[39m'\u001b[39m\u001b[39m{\u001b[39;00m\u001b[39mid\u001b[39m\u001b[39m}\u001b[39;00m\u001b[39m.png\u001b[39m\u001b[39m'\u001b[39m, bbox_inches \u001b[39m=\u001b[39m \u001b[39m\"\u001b[39m\u001b[39mtight\u001b[39m\u001b[39m\"\u001b[39m)\n\u001b[1;32m     49\u001b[0m stat_list\u001b[39m.\u001b[39mappend(stats)\n",
      "File \u001b[0;32m~/lab/Andrew/pysanger.py:403\u001b[0m, in \u001b[0;36mvisualize\u001b[0;34m(title, abidata, template, strand, fig, region, translation_limits, template_limits)\u001b[0m\n\u001b[1;32m    401\u001b[0m \u001b[39mif\u001b[39;00m n_template_nt \u001b[39m!=\u001b[39m \u001b[39m0\u001b[39m:\n\u001b[1;32m    402\u001b[0m     \u001b[39mprint\u001b[39m(n_template_nt)\n\u001b[0;32m--> 403\u001b[0m     \u001b[39mraise\u001b[39;00m \u001b[39mValueError\u001b[39;00m(\u001b[39m'\u001b[39m\u001b[39mSomething has gone wrong :(\u001b[39m\u001b[39m'\u001b[39m)\n\u001b[1;32m    405\u001b[0m insertions \u001b[39m=\u001b[39m []\n\u001b[1;32m    406\u001b[0m deletions \u001b[39m=\u001b[39m []\n",
      "\u001b[0;31mValueError\u001b[0m: Something has gone wrong :("
     ]
    }
   ],
   "source": [
    "from pysanger import *\n",
    "\n",
    "import os\n",
    "from Bio import SeqIO\n",
    "\n",
    "from tqdm.notebook import tqdm\n",
    "\n",
    "def tokenize_fp_make_id(inp):\n",
    "    tokens = inp.replace('-', '_').split('_')\n",
    "    user = tokens[0]\n",
    "    construct = tokens[2]\n",
    "    num = tokens[3]\n",
    "\n",
    "    forward = 'Mcherry' in tokens\n",
    "    reverse = 'WPRE' in tokens\n",
    "\n",
    "    if not forward and not reverse:\n",
    "        raise Exception('Neither forward nor reverse! Invalid filename.')\n",
    "    else:\n",
    "        if forward:\n",
    "            primer = 'MCHERRY'\n",
    "            direction = 'FORWARD'\n",
    "            strand = 1\n",
    "        else:\n",
    "            primer = 'WPRE'\n",
    "            direction = 'REVERSE'\n",
    "            strand = -1\n",
    "\n",
    "    id = f\"{user}_{construct}_{num}_{primer}_{direction}\"\n",
    "\n",
    "    return id, strand\n",
    "\n",
    "#read in template plasmid\n",
    "with open(\"data/bfp-expression-control-mcherry-flag-hlpla-pcdna3-w37v.fasta\") as file:\n",
    "    for record in SeqIO.parse(file, \"fasta\"):\n",
    "        template = record.seq\n",
    "\n",
    "fp = 'PC_812288-3088_48_PC-442--Mcherry-Seq-Forward_H11.ab1'\n",
    "id, strand = tokenize_fp_make_id(fp)\n",
    "abidata = abi_to_dict(f\"peter_data/{fp}\")\n",
    "\n",
    "if strand == 1:\n",
    "    template_limits = (4660, 5250)\n",
    "else:\n",
    "    template_limits = (5000, 5740)\n",
    "fig, stats = visualize(id, abidata, template=template, strand=strand, fig=None, region=\"read\", translation_limits = (4702, None), template_limits = template_limits)\n",
    "fig.savefig(f'{id}.png', bbox_inches = \"tight\")\n",
    "\n",
    "stat_list.append(stats)"
   ]
  },
  {
   "cell_type": "code",
   "execution_count": 2,
   "metadata": {},
   "outputs": [
    {
     "data": {
      "text/html": [
       "<div>\n",
       "<style scoped>\n",
       "    .dataframe tbody tr th:only-of-type {\n",
       "        vertical-align: middle;\n",
       "    }\n",
       "\n",
       "    .dataframe tbody tr th {\n",
       "        vertical-align: top;\n",
       "    }\n",
       "\n",
       "    .dataframe thead th {\n",
       "        text-align: right;\n",
       "    }\n",
       "</style>\n",
       "<table border=\"1\" class=\"dataframe\">\n",
       "  <thead>\n",
       "    <tr style=\"text-align: right;\">\n",
       "      <th></th>\n",
       "      <th>id</th>\n",
       "      <th>alignment_score</th>\n",
       "      <th>nt_insertions</th>\n",
       "      <th>nt_deletions</th>\n",
       "      <th>nt_mismatches</th>\n",
       "      <th>silent_mutations</th>\n",
       "      <th>missense_mutations</th>\n",
       "      <th>gap_mutations</th>\n",
       "    </tr>\n",
       "  </thead>\n",
       "  <tbody>\n",
       "    <tr>\n",
       "      <th>0</th>\n",
       "      <td>PC_574_2_MCHERRY_FORWARD</td>\n",
       "      <td>1102.0</td>\n",
       "      <td></td>\n",
       "      <td></td>\n",
       "      <td>4792(C-&gt;G)</td>\n",
       "      <td>31</td>\n",
       "      <td></td>\n",
       "      <td></td>\n",
       "    </tr>\n",
       "    <tr>\n",
       "      <th>0</th>\n",
       "      <td>PC_574_2_MCHERRY_FORWARD</td>\n",
       "      <td>1102.0</td>\n",
       "      <td></td>\n",
       "      <td></td>\n",
       "      <td>4792(C-&gt;G)</td>\n",
       "      <td>31</td>\n",
       "      <td></td>\n",
       "      <td></td>\n",
       "    </tr>\n",
       "  </tbody>\n",
       "</table>\n",
       "</div>"
      ],
      "text/plain": [
       "                         id  alignment_score nt_insertions nt_deletions  \\\n",
       "0  PC_574_2_MCHERRY_FORWARD           1102.0                              \n",
       "0  PC_574_2_MCHERRY_FORWARD           1102.0                              \n",
       "\n",
       "  nt_mismatches silent_mutations missense_mutations gap_mutations  \n",
       "0    4792(C->G)               31                                   \n",
       "0    4792(C->G)               31                                   "
      ]
     },
     "execution_count": 2,
     "metadata": {},
     "output_type": "execute_result"
    }
   ],
   "source": [
    "pd.concat([stats, stats])"
   ]
  },
  {
   "cell_type": "code",
   "execution_count": 3,
   "metadata": {},
   "outputs": [
    {
     "data": {
      "text/html": [
       "<div>\n",
       "<style scoped>\n",
       "    .dataframe tbody tr th:only-of-type {\n",
       "        vertical-align: middle;\n",
       "    }\n",
       "\n",
       "    .dataframe tbody tr th {\n",
       "        vertical-align: top;\n",
       "    }\n",
       "\n",
       "    .dataframe thead th {\n",
       "        text-align: right;\n",
       "    }\n",
       "</style>\n",
       "<table border=\"1\" class=\"dataframe\">\n",
       "  <thead>\n",
       "    <tr style=\"text-align: right;\">\n",
       "      <th></th>\n",
       "      <th>id</th>\n",
       "      <th>alignment_score</th>\n",
       "      <th>nt_insertions</th>\n",
       "      <th>nt_deletions</th>\n",
       "      <th>nt_mismatches</th>\n",
       "      <th>silent_mutations</th>\n",
       "      <th>missense_mutations</th>\n",
       "      <th>gap_mutations</th>\n",
       "    </tr>\n",
       "  </thead>\n",
       "  <tbody>\n",
       "    <tr>\n",
       "      <th>0</th>\n",
       "      <td>&lt;built-in function id&gt;</td>\n",
       "      <td>1102.0</td>\n",
       "      <td></td>\n",
       "      <td></td>\n",
       "      <td>4792(C-&gt;G)</td>\n",
       "      <td>31</td>\n",
       "      <td></td>\n",
       "      <td></td>\n",
       "    </tr>\n",
       "  </tbody>\n",
       "</table>\n",
       "</div>"
      ],
      "text/plain": [
       "                       id  alignment_score nt_insertions nt_deletions  \\\n",
       "0  <built-in function id>           1102.0                              \n",
       "\n",
       "  nt_mismatches silent_mutations missense_mutations gap_mutations  \n",
       "0    4792(C->G)               31                                   "
      ]
     },
     "execution_count": 3,
     "metadata": {},
     "output_type": "execute_result"
    }
   ],
   "source": [
    "stats"
   ]
  }
 ],
 "metadata": {
  "kernelspec": {
   "display_name": "biopython",
   "language": "python",
   "name": "python3"
  },
  "language_info": {
   "codemirror_mode": {
    "name": "ipython",
    "version": 3
   },
   "file_extension": ".py",
   "mimetype": "text/x-python",
   "name": "python",
   "nbconvert_exporter": "python",
   "pygments_lexer": "ipython3",
   "version": "3.11.4"
  },
  "orig_nbformat": 4
 },
 "nbformat": 4,
 "nbformat_minor": 2
}
