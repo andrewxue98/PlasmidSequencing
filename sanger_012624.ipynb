{
 "cells": [
  {
   "cell_type": "code",
   "execution_count": 3,
   "metadata": {},
   "outputs": [
    {
     "data": {
      "application/vnd.jupyter.widget-view+json": {
       "model_id": "694e5e0848db4ae383084ccca0df9eb2",
       "version_major": 2,
       "version_minor": 0
      },
      "text/plain": [
       "  0%|          | 0/96 [00:00<?, ?it/s]"
      ]
     },
     "metadata": {},
     "output_type": "display_data"
    },
    {
     "ename": "KeyboardInterrupt",
     "evalue": "",
     "output_type": "error",
     "traceback": [
      "\u001b[0;31m---------------------------------------------------------------------------\u001b[0m",
      "\u001b[0;31mKeyboardInterrupt\u001b[0m                         Traceback (most recent call last)",
      "Cell \u001b[0;32mIn[3], line 56\u001b[0m\n\u001b[1;32m     54\u001b[0m \u001b[38;5;28;01melse\u001b[39;00m:\n\u001b[1;32m     55\u001b[0m     template_limits \u001b[38;5;241m=\u001b[39m (\u001b[38;5;241m5000\u001b[39m, \u001b[38;5;241m5740\u001b[39m)\n\u001b[0;32m---> 56\u001b[0m fig, stats \u001b[38;5;241m=\u001b[39m visualize2(\n\u001b[1;32m     57\u001b[0m     \u001b[38;5;28mid\u001b[39m,\n\u001b[1;32m     58\u001b[0m     abidata,\n\u001b[1;32m     59\u001b[0m     template\u001b[38;5;241m=\u001b[39mtemplate,\n\u001b[1;32m     60\u001b[0m     strand\u001b[38;5;241m=\u001b[39mstrand,\n\u001b[1;32m     61\u001b[0m     fig\u001b[38;5;241m=\u001b[39m\u001b[38;5;28;01mNone\u001b[39;00m,\n\u001b[1;32m     62\u001b[0m     region\u001b[38;5;241m=\u001b[39m\u001b[38;5;124m\"\u001b[39m\u001b[38;5;124mread\u001b[39m\u001b[38;5;124m\"\u001b[39m,\n\u001b[1;32m     63\u001b[0m     translation_limits\u001b[38;5;241m=\u001b[39m(\u001b[38;5;241m4702\u001b[39m, \u001b[38;5;28;01mNone\u001b[39;00m),\n\u001b[1;32m     64\u001b[0m     template_limits\u001b[38;5;241m=\u001b[39mtemplate_limits,\n\u001b[1;32m     65\u001b[0m     plot \u001b[38;5;241m=\u001b[39m \u001b[38;5;28;01mFalse\u001b[39;00m\n\u001b[1;32m     66\u001b[0m )\n\u001b[1;32m     68\u001b[0m \u001b[38;5;66;03m#fig.savefig(f\"output_012624/{id}.png\", bbox_inches=\"tight\")\u001b[39;00m\n\u001b[1;32m     69\u001b[0m plt\u001b[38;5;241m.\u001b[39mclose()\n",
      "File \u001b[0;32m~/lab/Andrew/plasmid-sequencing/pysanger.py:410\u001b[0m, in \u001b[0;36mvisualize2\u001b[0;34m(title, abidata, template, strand, fig, region, translation_limits, template_limits, plot)\u001b[0m\n\u001b[1;32m    407\u001b[0m template \u001b[38;5;241m=\u001b[39m template[template_start:template_end]\n\u001b[1;32m    409\u001b[0m t2 \u001b[38;5;241m=\u001b[39m time\u001b[38;5;241m.\u001b[39mtime()\n\u001b[0;32m--> 410\u001b[0m alignments \u001b[38;5;241m=\u001b[39m pairwise2\u001b[38;5;241m.\u001b[39malign\u001b[38;5;241m.\u001b[39mglobalms(\n\u001b[1;32m    411\u001b[0m     template, subject, \u001b[38;5;241m2\u001b[39m, \u001b[38;5;241m0\u001b[39m, \u001b[38;5;241m-\u001b[39m\u001b[38;5;241m10\u001b[39m, \u001b[38;5;241m-\u001b[39m\u001b[38;5;241m1\u001b[39m, penalize_end_gaps\u001b[38;5;241m=\u001b[39m\u001b[38;5;28;01mFalse\u001b[39;00m\n\u001b[1;32m    412\u001b[0m )\n\u001b[1;32m    413\u001b[0m t3 \u001b[38;5;241m=\u001b[39m time\u001b[38;5;241m.\u001b[39mtime()\n\u001b[1;32m    414\u001b[0m atemplate \u001b[38;5;241m=\u001b[39m alignments[\u001b[38;5;241m0\u001b[39m][\u001b[38;5;241m0\u001b[39m]\n",
      "File \u001b[0;32m~/miniconda3/envs/biopython/lib/python3.11/site-packages/Bio/pairwise2.py:493\u001b[0m, in \u001b[0;36malign.alignment_function.__call__\u001b[0;34m(self, *args, **keywds)\u001b[0m\n\u001b[1;32m    491\u001b[0m \u001b[38;5;250m\u001b[39m\u001b[38;5;124;03m\"\"\"Call the alignment instance already created.\"\"\"\u001b[39;00m\n\u001b[1;32m    492\u001b[0m keywds \u001b[38;5;241m=\u001b[39m \u001b[38;5;28mself\u001b[39m\u001b[38;5;241m.\u001b[39mdecode(\u001b[38;5;241m*\u001b[39margs, \u001b[38;5;241m*\u001b[39m\u001b[38;5;241m*\u001b[39mkeywds)\n\u001b[0;32m--> 493\u001b[0m \u001b[38;5;28;01mreturn\u001b[39;00m _align(\u001b[38;5;241m*\u001b[39m\u001b[38;5;241m*\u001b[39mkeywds)\n",
      "File \u001b[0;32m~/miniconda3/envs/biopython/lib/python3.11/site-packages/Bio/pairwise2.py:560\u001b[0m, in \u001b[0;36m_align\u001b[0;34m(sequenceA, sequenceB, match_fn, gap_A_fn, gap_B_fn, penalize_extend_when_opening, penalize_end_gaps, align_globally, gap_char, force_generic, score_only, one_alignment_only)\u001b[0m\n\u001b[1;32m    558\u001b[0m     open_A, extend_A \u001b[38;5;241m=\u001b[39m gap_A_fn\u001b[38;5;241m.\u001b[39mopen, gap_A_fn\u001b[38;5;241m.\u001b[39mextend\n\u001b[1;32m    559\u001b[0m     open_B, extend_B \u001b[38;5;241m=\u001b[39m gap_B_fn\u001b[38;5;241m.\u001b[39mopen, gap_B_fn\u001b[38;5;241m.\u001b[39mextend\n\u001b[0;32m--> 560\u001b[0m     matrices \u001b[38;5;241m=\u001b[39m _make_score_matrix_fast(\n\u001b[1;32m    561\u001b[0m         sequenceA,\n\u001b[1;32m    562\u001b[0m         sequenceB,\n\u001b[1;32m    563\u001b[0m         match_fn,\n\u001b[1;32m    564\u001b[0m         open_A,\n\u001b[1;32m    565\u001b[0m         extend_A,\n\u001b[1;32m    566\u001b[0m         open_B,\n\u001b[1;32m    567\u001b[0m         extend_B,\n\u001b[1;32m    568\u001b[0m         penalize_extend_when_opening,\n\u001b[1;32m    569\u001b[0m         penalize_end_gaps,\n\u001b[1;32m    570\u001b[0m         align_globally,\n\u001b[1;32m    571\u001b[0m         score_only,\n\u001b[1;32m    572\u001b[0m     )\n\u001b[1;32m    573\u001b[0m \u001b[38;5;28;01melse\u001b[39;00m:\n\u001b[1;32m    574\u001b[0m     matrices \u001b[38;5;241m=\u001b[39m _make_score_matrix_generic(\n\u001b[1;32m    575\u001b[0m         sequenceA,\n\u001b[1;32m    576\u001b[0m         sequenceB,\n\u001b[0;32m   (...)\u001b[0m\n\u001b[1;32m    582\u001b[0m         score_only,\n\u001b[1;32m    583\u001b[0m     )\n",
      "\u001b[0;31mKeyboardInterrupt\u001b[0m: "
     ]
    }
   ],
   "source": [
    "from multiprocessing import Value\n",
    "from pysanger import *\n",
    "import matplotlib.pyplot as plt\n",
    "\n",
    "import os\n",
    "from Bio import SeqIO\n",
    "\n",
    "from tqdm.notebook import tqdm\n",
    "\n",
    "\n",
    "def tokenize_fp_make_id(inp):\n",
    "    tokens = inp.replace(\"-\", \"_\").split(\"_\")\n",
    "    user = tokens[0]\n",
    "    construct = tokens[2]\n",
    "    well = tokens[3]\n",
    "\n",
    "    forward = \"mCherry\" in tokens\n",
    "    reverse = \"WPRE\" in tokens\n",
    "\n",
    "    if not forward and not reverse:\n",
    "        raise Exception(\"Neither forward nor reverse! Invalid filename.\")\n",
    "    else:\n",
    "        if forward:\n",
    "            primer = \"MCHERRY\"\n",
    "            direction = \"FORWARD\"\n",
    "            strand = 1\n",
    "        else:\n",
    "            primer = \"WPRE\"\n",
    "            direction = \"REVERSE\"\n",
    "            strand = -1\n",
    "\n",
    "    id = f\"{user}_{construct}_{well}_{primer}_{direction}\"\n",
    "\n",
    "    return id, strand\n",
    "\n",
    "\n",
    "output_dir = \"output_012624\"\n",
    "os.makedirs(output_dir, exist_ok=True)\n",
    "\n",
    "# read in template plasmid\n",
    "with open(\"data/bfp-expression-control-mcherry-flag-hlpla-pcdna3-w37v.fasta\") as file:\n",
    "    for record in SeqIO.parse(file, \"fasta\"):\n",
    "        template = record.seq\n",
    "\n",
    "\n",
    "stat_list = []\n",
    "\n",
    "for fp in tqdm(os.listdir(\"data/albert_data\")):\n",
    "    id, strand = tokenize_fp_make_id(fp)\n",
    "    abidata = abi_to_dict(f\"data/albert_data/{fp}\")\n",
    "\n",
    "    if strand == 1:\n",
    "        template_limits = (4660, 5250)\n",
    "    else:\n",
    "        template_limits = (5000, 5740)\n",
    "    fig, stats = visualize2(\n",
    "        id,\n",
    "        abidata,\n",
    "        template=template,\n",
    "        strand=strand,\n",
    "        fig=None,\n",
    "        region=\"read\",\n",
    "        translation_limits=(4702, None),\n",
    "        template_limits=template_limits,\n",
    "        plot = False\n",
    "    )\n",
    "\n",
    "    #fig.savefig(f\"output_012624/{id}.png\", bbox_inches=\"tight\")\n",
    "    plt.close()\n",
    "\n",
    "    #stat_list.append(stats)\n",
    "\n",
    "#stat_df = pd.concat(stat_list)\n",
    "#stat_df = stat_df.sort_values(by=\"id\", ascending=True)\n",
    "#stat_df.to_csv(\"output_012624/construct_info_012624.csv\", index=False)"
   ]
  },
  {
   "cell_type": "code",
   "execution_count": 4,
   "metadata": {},
   "outputs": [
    {
     "data": {
      "text/plain": [
       "-0.00020170211791992188"
      ]
     },
     "execution_count": 4,
     "metadata": {},
     "output_type": "execute_result"
    }
   ],
   "source": [
    "times[0] - times[1]"
   ]
  },
  {
   "cell_type": "code",
   "execution_count": 3,
   "metadata": {},
   "outputs": [
    {
     "data": {
      "text/plain": [
       "[1706309330.0966344,\n",
       " 1706309330.096836,\n",
       " 1706309330.2304857,\n",
       " 1706309330.5326543,\n",
       " 1706309331.8771894]"
      ]
     },
     "execution_count": 3,
     "metadata": {},
     "output_type": "execute_result"
    }
   ],
   "source": [
    "times"
   ]
  },
  {
   "cell_type": "code",
   "execution_count": 1,
   "metadata": {},
   "outputs": [],
   "source": [
    "from Bio import SeqIO\n",
    "from Bio import pairwise2\n",
    "\n",
    "template = \"gtcaGCGGCCGCTGTCCAATTGGTTGAATCTGGCGGAGGACTGGTGCAGGCTGGTGGCAGCCTGCGGCTGAGCTACGCTGCTTCTGGTAGAACCTTTTCCAACTACGCCATGCACTGGGTTAGACAGGCCCCTGGCAAGGAAAGAGAGTTCCTGGGTTACATCTCTTGGACCGGCGTGTCCACTTACTATGCCGATTCTGTCAAAGGCAGATTCACCATCAGCAGAGACAACGACAAGAACCAGCTGTACTTGCAAATGAACAGCTTAATTCCAGAGGATACAGCCATCTACTACAGCGCCAGAGTCAGAGCCAGATCTTTCAGCGACACCTACTCTCGGGTGAATGAGTACGACTACTGGGGTCAAGGTACTCAAGTTACCGTGTCCgtcaGACGTC\"\n",
    "subject = \"TNNNNNNNNNTTNNACNAGCTANNNGTACAGNGGGAACAAAGTCGATTTTGTTACATCTACACTGTTGTTATCAGATCTTACAAGTCCTCTTCAGAAATAAGCTTTTGTTCGACGTCGGACACGGTAACTTGAGTACCTTGACCCCAGTAGTCGTACTCATTCACCCGAGAGTAGGTGTCGCTGAAAGATCTGGCTCTGACTCTGGCGCTGTAGTAGATGGCTGTATCCTCTGGAATTAGCTGTTCATTTGCAAGTACAGCTGGTTCTTGTCGTTGTCTCTGCTGATGGTGAATCTGCCTTTGACAGAATCGGCATAGTAAGTGGACACGCCGGTCCAAGAGATGTAACCCAGGAACTCTCTTTCCTTGCCAGGGGCCTGTCTAACCCAGTGCATGGAGTAGTTGGAAAAGGTTCTACCAGAAGCAGCGTAGCTCAGCCGCAGGCTGCCACCAGCCTGCACCAGTCCTCCGCCAGATTCAACCAATTGGACAGCGGCCGCGGCCAGCTCCACCAGGATGCCTGCCAGCTTTCTATCCTGCAGATACAGGTCATTGGGCCATTTGACTCGCACCTTGTCTGCTCCCAGCTTTCGCAGCGCTTCTGCCATGACAATTCCGATGACCGGGCCCAGGCCGATTGCTGCTGGTCCCCGCTTCAGGCGCCAAAACATACTCAGGTACAGGTTAGCTCCAAAAGGAGAGAACCATTTCCTCCCTCTGCTTCCTCTCCCTGCCTGCTGATATTCTGCAATGCAAGCATCCCCACTCTTCAGCTCGCCGATTCGATCCAGCAGGTACTGATTGGTGGAGTCGACCACAGGCANGACTGCCACGCTCCCGCCGTCCAGCTGTCCCAGAATCTGTTTAGCGTTCAGCAGCGGGATANGNTCGGGCAGAGAGTAGCCCTTTCCGGGCACGGNGAACACGTCCACGCCCCCAGTCGCGCAGAGTCTGAATGTGCTTGTTGATAGCGGGCCCTGNNNATGCCCAGGGTTTCTCCCAGCTGNTTCGCCACTATGGNANTCGCCATTANCNAGNNANCGATCAGCTTTCNNNNNACAGTATNGTCTTTGCTANCNNANCNNCNNNNCNGNNCCNTCCACNNNNNACCCNNCCCCNNNNNNNCCNTTTNNGNANANNNNNANNNATTNNTCNNNNNNTNCNNNNNNNNNACNNCGNNCNNNNTCNNCNNNNNGNNNNNNNNNTTTNNNNNNNNN\"\n",
    "alignments = pairwise2.align.globalms(template, subject, 2, 0, -10, -1, penalize_end_gaps=False)\n",
    "atemplate = alignments[0][0]\n",
    "asubject = alignments[0][1]"
   ]
  },
  {
   "cell_type": "code",
   "execution_count": 5,
   "metadata": {},
   "outputs": [
    {
     "data": {
      "text/plain": [
       "'GAGAGTAGGTGTCGCTGAAAGATCTGGCTCTGACTCTGGCGCTGTAGTAGATGGCTGTATCCTCTGGATTAGCTGTTCATTTGCAAGTACAGCTGGTTCTTGTCGTTGTCTCTGCTGATGGTGAATCTGCCTTTGACAGAATCGGCATAGTAAGTGGACACGCCGGTCCAAGAGATGTAACCCAGGAACTCTCTTTCCTTGCCAGGGGCCTGTCTAACCCAGTGCATGGAGTAGTTGGAAAAGGTTCTACCAGAAGCAGCGTAGCTCA--GCCGCAGGCTGCCACCAGCCTGCACCAGTCCTCCGCCAGATTCAACCAATTGGACAGCGGCCGCGGCCAGCTCCACCAGGATGCCTGCCAGCTTTCTATCCTGCAGATACAGGTCATTGGGCCATTTG'"
      ]
     },
     "execution_count": 5,
     "metadata": {},
     "output_type": "execute_result"
    }
   ],
   "source": [
    "\"\".join([sub for sub, temp in zip(asubject, atemplate) if temp != \"-\"])"
   ]
  },
  {
   "cell_type": "code",
   "execution_count": null,
   "metadata": {},
   "outputs": [],
   "source": [
    "1"
   ]
  },
  {
   "cell_type": "code",
   "execution_count": null,
   "metadata": {},
   "outputs": [],
   "source": []
  }
 ],
 "metadata": {
  "kernelspec": {
   "display_name": "biopython",
   "language": "python",
   "name": "python3"
  },
  "language_info": {
   "codemirror_mode": {
    "name": "ipython",
    "version": 3
   },
   "file_extension": ".py",
   "mimetype": "text/x-python",
   "name": "python",
   "nbconvert_exporter": "python",
   "pygments_lexer": "ipython3",
   "version": "3.11.4"
  },
  "orig_nbformat": 4
 },
 "nbformat": 4,
 "nbformat_minor": 2
}
