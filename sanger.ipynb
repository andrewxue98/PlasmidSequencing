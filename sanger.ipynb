{
 "cells": [
  {
   "cell_type": "code",
   "execution_count": null,
   "metadata": {},
   "outputs": [],
   "source": [
    "from pysanger import *\n",
    "import matplotlib.pyplot as plt\n",
    "\n",
    "import os\n",
    "from Bio import SeqIO\n",
    "\n",
    "from tqdm.notebook import tqdm\n",
    "\n",
    "def tokenize_fp_make_id(inp):\n",
    "    tokens = inp.replace('-', '_').split('_')\n",
    "    user = tokens[0]\n",
    "    construct = tokens[2]\n",
    "    num = tokens[3]\n",
    "\n",
    "    forward = 'Mcherry' in tokens\n",
    "    reverse = 'WPRE' in tokens\n",
    "\n",
    "    if not forward and not reverse:\n",
    "        raise Exception('Neither forward nor reverse! Invalid filename.')\n",
    "    else:\n",
    "        if forward:\n",
    "            primer = 'MCHERRY'\n",
    "            direction = 'FORWARD'\n",
    "            strand = 1\n",
    "        else:\n",
    "            primer = 'WPRE'\n",
    "            direction = 'REVERSE'\n",
    "            strand = -1\n",
    "\n",
    "    id = f\"{user}_{construct}_{num}_{primer}_{direction}\"\n",
    "\n",
    "    return id, strand\n",
    "\n",
    "#read in template plasmid\n",
    "with open(\"data/bfp-expression-control-mcherry-flag-hlpla-pcdna3-w37v.fasta\") as file:\n",
    "    for record in SeqIO.parse(file, \"fasta\"):\n",
    "        template = record.seq\n",
    "\n",
    "os.makedirs('output', exist_ok=True)\n",
    "stat_list = []\n",
    "\n",
    "for fp in tqdm(os.listdir('peter_data')):\n",
    "    #abidata = abi_to_dict(\"data/PC_806488-574_2_PC-442--Mcherry-Seq-Forward_B10.ab1\")\n",
    "    id, strand = tokenize_fp_make_id(fp)\n",
    "    abidata = abi_to_dict(f\"peter_data/{fp}\")\n",
    "\n",
    "    if strand == 1:\n",
    "        template_limits = (4660, 5250)\n",
    "    else:\n",
    "        template_limits = (5000, 5740)\n",
    "    fig, stats = visualize(id, abidata, template=template, strand=strand, fig=None, region=\"read\", translation_limits = (4702, None), template_limits = template_limits)\n",
    "    \n",
    "    fig.savefig(f'output/{id}.png', bbox_inches = \"tight\")\n",
    "    plt.close()\n",
    "\n",
    "    stat_list.append(stats)\n",
    "\n",
    "stat_df = pd.concat(stat_list)\n",
    "stat_df = stat_df.sort_values(by = 'id', ascending = True)\n",
    "stat_df.to_csv('construct_info.csv', index = False)"
   ]
  },
  {
   "cell_type": "code",
   "execution_count": 1,
   "metadata": {},
   "outputs": [],
   "source": [
    "from Bio import SeqIO\n",
    "from Bio import pairwise2\n",
    "\n",
    "template = \"gtcaGCGGCCGCTGTCCAATTGGTTGAATCTGGCGGAGGACTGGTGCAGGCTGGTGGCAGCCTGCGGCTGAGCTACGCTGCTTCTGGTAGAACCTTTTCCAACTACGCCATGCACTGGGTTAGACAGGCCCCTGGCAAGGAAAGAGAGTTCCTGGGTTACATCTCTTGGACCGGCGTGTCCACTTACTATGCCGATTCTGTCAAAGGCAGATTCACCATCAGCAGAGACAACGACAAGAACCAGCTGTACTTGCAAATGAACAGCTTAATTCCAGAGGATACAGCCATCTACTACAGCGCCAGAGTCAGAGCCAGATCTTTCAGCGACACCTACTCTCGGGTGAATGAGTACGACTACTGGGGTCAAGGTACTCAAGTTACCGTGTCCgtcaGACGTC\"\n",
    "subject = \"TNNNNNNNNNTTNNACNAGCTANNNGTACAGNGGGAACAAAGTCGATTTTGTTACATCTACACTGTTGTTATCAGATCTTACAAGTCCTCTTCAGAAATAAGCTTTTGTTCGACGTCGGACACGGTAACTTGAGTACCTTGACCCCAGTAGTCGTACTCATTCACCCGAGAGTAGGTGTCGCTGAAAGATCTGGCTCTGACTCTGGCGCTGTAGTAGATGGCTGTATCCTCTGGAATTAGCTGTTCATTTGCAAGTACAGCTGGTTCTTGTCGTTGTCTCTGCTGATGGTGAATCTGCCTTTGACAGAATCGGCATAGTAAGTGGACACGCCGGTCCAAGAGATGTAACCCAGGAACTCTCTTTCCTTGCCAGGGGCCTGTCTAACCCAGTGCATGGAGTAGTTGGAAAAGGTTCTACCAGAAGCAGCGTAGCTCAGCCGCAGGCTGCCACCAGCCTGCACCAGTCCTCCGCCAGATTCAACCAATTGGACAGCGGCCGCGGCCAGCTCCACCAGGATGCCTGCCAGCTTTCTATCCTGCAGATACAGGTCATTGGGCCATTTGACTCGCACCTTGTCTGCTCCCAGCTTTCGCAGCGCTTCTGCCATGACAATTCCGATGACCGGGCCCAGGCCGATTGCTGCTGGTCCCCGCTTCAGGCGCCAAAACATACTCAGGTACAGGTTAGCTCCAAAAGGAGAGAACCATTTCCTCCCTCTGCTTCCTCTCCCTGCCTGCTGATATTCTGCAATGCAAGCATCCCCACTCTTCAGCTCGCCGATTCGATCCAGCAGGTACTGATTGGTGGAGTCGACCACAGGCANGACTGCCACGCTCCCGCCGTCCAGCTGTCCCAGAATCTGTTTAGCGTTCAGCAGCGGGATANGNTCGGGCAGAGAGTAGCCCTTTCCGGGCACGGNGAACACGTCCACGCCCCCAGTCGCGCAGAGTCTGAATGTGCTTGTTGATAGCGGGCCCTGNNNATGCCCAGGGTTTCTCCCAGCTGNTTCGCCACTATGGNANTCGCCATTANCNAGNNANCGATCAGCTTTCNNNNNACAGTATNGTCTTTGCTANCNNANCNNCNNNNCNGNNCCNTCCACNNNNNACCCNNCCCCNNNNNNNCCNTTTNNGNANANNNNNANNNATTNNTCNNNNNNTNCNNNNNNNNNACNNCGNNCNNNNTCNNCNNNNNGNNNNNNNNNTTTNNNNNNNNN\"\n",
    "alignments = pairwise2.align.globalms(template, subject, 2, 0, -10, -1, penalize_end_gaps=False)\n",
    "atemplate = alignments[0][0]\n",
    "asubject = alignments[0][1]"
   ]
  },
  {
   "cell_type": "code",
   "execution_count": 5,
   "metadata": {},
   "outputs": [
    {
     "data": {
      "text/plain": [
       "'GAGAGTAGGTGTCGCTGAAAGATCTGGCTCTGACTCTGGCGCTGTAGTAGATGGCTGTATCCTCTGGATTAGCTGTTCATTTGCAAGTACAGCTGGTTCTTGTCGTTGTCTCTGCTGATGGTGAATCTGCCTTTGACAGAATCGGCATAGTAAGTGGACACGCCGGTCCAAGAGATGTAACCCAGGAACTCTCTTTCCTTGCCAGGGGCCTGTCTAACCCAGTGCATGGAGTAGTTGGAAAAGGTTCTACCAGAAGCAGCGTAGCTCA--GCCGCAGGCTGCCACCAGCCTGCACCAGTCCTCCGCCAGATTCAACCAATTGGACAGCGGCCGCGGCCAGCTCCACCAGGATGCCTGCCAGCTTTCTATCCTGCAGATACAGGTCATTGGGCCATTTG'"
      ]
     },
     "execution_count": 5,
     "metadata": {},
     "output_type": "execute_result"
    }
   ],
   "source": [
    "\"\".join([sub for sub, temp in zip(asubject, atemplate) if temp != \"-\"])"
   ]
  },
  {
   "cell_type": "code",
   "execution_count": null,
   "metadata": {},
   "outputs": [],
   "source": [
    "1"
   ]
  },
  {
   "cell_type": "code",
   "execution_count": null,
   "metadata": {},
   "outputs": [],
   "source": []
  }
 ],
 "metadata": {
  "kernelspec": {
   "display_name": "biopython",
   "language": "python",
   "name": "python3"
  },
  "language_info": {
   "codemirror_mode": {
    "name": "ipython",
    "version": 3
   },
   "file_extension": ".py",
   "mimetype": "text/x-python",
   "name": "python",
   "nbconvert_exporter": "python",
   "pygments_lexer": "ipython3",
   "version": "3.11.4"
  },
  "orig_nbformat": 4
 },
 "nbformat": 4,
 "nbformat_minor": 2
}
