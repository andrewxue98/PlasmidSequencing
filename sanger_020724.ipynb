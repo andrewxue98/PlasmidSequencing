{
 "cells": [
  {
   "cell_type": "code",
   "execution_count": 2,
   "metadata": {},
   "outputs": [],
   "source": [
    "from multiprocessing import Value\n",
    "from pysanger import *\n",
    "import matplotlib.pyplot as plt\n",
    "\n",
    "import os\n",
    "from Bio import SeqIO\n",
    "\n",
    "from tqdm.notebook import tqdm\n",
    "\n",
    "\n",
    "def tokenize_fp_make_id(inp):\n",
    "    tokens = inp.replace(\"-\", \"_\").split(\"_\")\n",
    "    user = tokens[0]\n",
    "    construct = tokens[2]\n",
    "    well = tokens[3]\n",
    "\n",
    "    forward = \"mCherry\" in tokens or \"mCh\" in tokens\n",
    "    reverse = \"WPRE\" in tokens\n",
    "\n",
    "    if not forward and not reverse:\n",
    "        raise Exception(\"Neither forward nor reverse! Invalid filename.\")\n",
    "    else:\n",
    "        if forward:\n",
    "            primer = \"MCHERRY\"\n",
    "            direction = \"FORWARD\"\n",
    "            strand = 1\n",
    "        else:\n",
    "            primer = \"WPRE\"\n",
    "            direction = \"REVERSE\"\n",
    "            strand = -1\n",
    "\n",
    "    id = f\"{user}_{construct}_{well}_{primer}_{direction}\"\n",
    "\n",
    "    return id, strand"
   ]
  },
  {
   "cell_type": "code",
   "execution_count": 4,
   "metadata": {},
   "outputs": [
    {
     "data": {
      "application/vnd.jupyter.widget-view+json": {
       "model_id": "b5e41b7d2fea449299663456327c1e34",
       "version_major": 2,
       "version_minor": 0
      },
      "text/plain": [
       "  0%|          | 0/87 [00:00<?, ?it/s]"
      ]
     },
     "metadata": {},
     "output_type": "display_data"
    }
   ],
   "source": [
    "input_dir = \"data/peter_data2\"\n",
    "output_dir = \"output_020724\"\n",
    "\n",
    "os.makedirs(output_dir, exist_ok=True)\n",
    "stat_list = []\n",
    "\n",
    "# read in template plasmid\n",
    "with open(\"data/bfp-expression-control-mcherry-flag-hlpla-pcdna3-w37v.fasta\") as file:\n",
    "    for record in SeqIO.parse(file, \"fasta\"):\n",
    "        template = record.seq\n",
    "\n",
    "for fp in tqdm(os.listdir(input_dir)):\n",
    "    id, strand = tokenize_fp_make_id(fp)\n",
    "    abidata = abi_to_dict(f\"{input_dir}/{fp}\")\n",
    "\n",
    "    if strand == 1:\n",
    "        template_limits = (4660, 5250)\n",
    "    else:\n",
    "        template_limits = (5000, 5740)\n",
    "        \n",
    "    fig, stats = visualize(\n",
    "        id,\n",
    "        abidata,\n",
    "        template=template,\n",
    "        strand=strand,\n",
    "        fig=None,\n",
    "        region=\"read\",\n",
    "        translation_limits=(4702, None),\n",
    "        template_limits=template_limits,\n",
    "    )\n",
    "\n",
    "    fig.savefig(f\"{output_dir}/{id}.png\", bbox_inches=\"tight\")\n",
    "    plt.close()\n",
    "\n",
    "    stat_list.append(stats)\n",
    "\n",
    "stat_df = pd.concat(stat_list)\n",
    "stat_df = stat_df.sort_values(by=\"id\", ascending=True)\n",
    "stat_df.to_csv(f\"{output_dir}/construct_info.csv\", index=False)"
   ]
  },
  {
   "cell_type": "code",
   "execution_count": null,
   "metadata": {},
   "outputs": [
    {
     "data": {
      "application/vnd.jupyter.widget-view+json": {
       "model_id": "0c0eb6244a6a461bb4dca27b5f637d3f",
       "version_major": 2,
       "version_minor": 0
      },
      "text/plain": [
       "  0%|          | 0/63 [00:00<?, ?it/s]"
      ]
     },
     "metadata": {},
     "output_type": "display_data"
    }
   ],
   "source": [
    "input_dir = \"data/albert_data4\"\n",
    "output_dir = \"output_020224\"\n",
    "\n",
    "os.makedirs(output_dir, exist_ok=True)\n",
    "stat_list = []\n",
    "\n",
    "# read in template plasmid\n",
    "with open(\"data/bfp-expression-control-mcherry-flag-hlpla-pcdna3-w37v.fasta\") as file:\n",
    "    for record in SeqIO.parse(file, \"fasta\"):\n",
    "        template = record.seq\n",
    "\n",
    "for fp in tqdm(os.listdir(input_dir)):\n",
    "    id, strand = tokenize_fp_make_id(fp)\n",
    "    abidata = abi_to_dict(f\"{input_dir}/{fp}\")\n",
    "\n",
    "    if strand == 1:\n",
    "        template_limits = (4660, 5250)\n",
    "    else:\n",
    "        template_limits = (5000, 5740)\n",
    "    fig, stats = visualize(\n",
    "    fig, stats = visualize(\n",
    "        id,\n",
    "        abidata,\n",
    "        template=template,\n",
    "        strand=strand,\n",
    "        fig=None,\n",
    "        region=\"read\",\n",
    "        translation_limits=(4702, None),\n",
    "        template_limits=template_limits,\n",
    "    )\n",
    "\n",
    "    fig.savefig(f\"{output_dir}/{id}.png\", bbox_inches=\"tight\")\n",
    "    plt.close()\n",
    "\n",
    "    stat_list.append(stats)\n",
    "\n",
    "stat_df = pd.concat(stat_list)\n",
    "stat_df = stat_df.sort_values(by=\"id\", ascending=True)\n",
    "stat_df.to_csv(f\"{output_dir}/construct_info.csv\", index=False)"
   ]
  }
 ],
 "metadata": {
  "kernelspec": {
   "display_name": "biopython",
   "language": "python",
   "name": "python3"
  },
  "language_info": {
   "codemirror_mode": {
    "name": "ipython",
    "version": 3
   },
   "file_extension": ".py",
   "mimetype": "text/x-python",
   "name": "python",
   "nbconvert_exporter": "python",
   "pygments_lexer": "ipython3",
   "version": "3.11.4"
  },
  "orig_nbformat": 4
 },
 "nbformat": 4,
 "nbformat_minor": 2
}
